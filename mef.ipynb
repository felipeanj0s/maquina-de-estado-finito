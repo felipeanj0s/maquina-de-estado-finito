{
 "cells": [
  {
   "cell_type": "markdown",
   "metadata": {},
   "source": [
    "### Definição das **classes de estados** e **conexões**"
   ]
  },
  {
   "cell_type": "code",
   "execution_count": 1,
   "metadata": {},
   "outputs": [],
   "source": [
    "\n",
    "# Classe base\n",
    "class TCPState:\n",
    "    \"\"\"\n",
    "    Essa é uma classe abstrata que define as operações possíveis no protocolo TCP.\n",
    "    \"\"\"\n",
    "\n",
    "    def open(self):\n",
    "        \"\"\"\n",
    "        Solicita abertura de conexão.\n",
    "        \"\"\"\n",
    "        raise NotImplementedError(\"Transição inválida para este estado.\")\n",
    "    \n",
    "    def close(self):\n",
    "        \"\"\"\n",
    "        Solicita encerramento da conexão.\n",
    "        \"\"\"\n",
    "        raise NotImplementedError(\"Transição inválida para este estado.\")\n",
    "    \n",
    "    def send(self):\n",
    "        \"\"\"\n",
    "        Envia bytes.\n",
    "        \"\"\"\n",
    "        raise NotImplementedError(\"Transição inválida para este estado.\")\n",
    "    def receive(self):\n",
    "\n",
    "        \"\"\"\n",
    "        Recebe bytes\n",
    "        \"\"\"\n",
    "        raise NotImplementedError(\"Transição inválida para este estado.\")\n",
    "\n",
    "\n",
    "# Classe que gerencia a máquina de estados.\n",
    "class TCPConnection:\n",
    "    \"\"\"\n",
    "    A classe vai encapsular o estado atual e delega operações dos estados\n",
    "    \"\"\"\n",
    "\n",
    "    def __init__(self):\n",
    "        self.state = ClosedState()  # Inicializa Estado 1\n",
    "\n",
    "    def open(self):\n",
    "        self.state = self.state.open() \n",
    "    def close(self):\n",
    "        self.state = self.state.close()\n",
    "    def send(self):\n",
    "        self.state = self.state.send()\n",
    "    def receive(self):\n",
    "        self.state = self.state.receive()\n",
    "\n",
    "\n",
    "\n",
    "\n",
    "# Classe do estado 1\n",
    "class ClosedState(TCPState):\n",
    "    \"\"\"\n",
    "    Estado inicial e final do protocolo TCP. Representa uma conexão fechada.\n",
    "    \"\"\"\n",
    "\n",
    "    def open(self):\n",
    "        \"\"\"\n",
    "         Envia um segmento SYN para iniciar a conexão e transita para SYN_SENT.\n",
    "        \"\"\"\n",
    "        print(\"Transição: CLOSED → SYN_SENT\")\n",
    "        return SynSentState()\n",
    "\n",
    "# Classe do estado 2\n",
    "class SynSentState(TCPState):\n",
    "    \"\"\"\n",
    "    Estado em que um segmento SYN foi enviado \n",
    "    e o cliente aguarda uma resposta (SYN+ACK).\n",
    "    \"\"\"\n",
    "    def receive(self):\n",
    "\n",
    "        \"\"\"\n",
    "        Recebe um segmento SYN+ACK do servidor, estabelecendo a conexão. \n",
    "        Transita para ESTABLISHED.\n",
    "        \"\"\"\n",
    "        print(\"Transição: SYN_SENT → ESTABLISHED (SYN+ACK recebido)\")\n",
    "        return EstablishedState()\n",
    "\n",
    "\n",
    "# Classe do estado 3 \n",
    "class EstablishedState(TCPState):\n",
    "    \"\"\"\n",
    "    Estado principal, onde a conexão está ativa e dados podem ser enviados e recebidos.\n",
    "    \"\"\"\n",
    "\n",
    "    def send(self):\n",
    "        \"\"\"\n",
    "        Envia dados. Permanece no estado ESTABLISHED.\n",
    "        \"\"\"\n",
    "        print(\"Ação: Dados enviados no estado ESTABLISHED\")\n",
    "        return self\n",
    "    \n",
    "    def receive(self):\n",
    "        \"\"\"\n",
    "        Recebe dados. Permanece no estado ESTABLISHED.\n",
    "        \"\"\"\n",
    "        print(\"Ação: Dados recebidos no estado ESTABLISHED\")\n",
    "        return self\n",
    "    \n",
    "\n",
    "    def close(self):\n",
    "        \"\"\"\n",
    "        Inicia o encerramento da conexão enviando um segmento FIN. \n",
    "        Transita para FIN_WAIT_1.\n",
    "        \"\"\"\n",
    "        print(\"Transição: ESTABLISHED → FIN_WAIT_1\")\n",
    "        return FinWait1State()\n",
    "\n",
    "\n",
    "# Classe do estado 4\n",
    "class FinWait1State(TCPState):\n",
    "    \"\"\"\n",
    "    Estado em que o segmento FIN foi enviado e o cliente aguarda o ACK correspondente.\n",
    "    \"\"\"\n",
    "\n",
    "    def receive(self):\n",
    "        \"\"\"\n",
    "        Recebe o ACK do segmento FIN enviado. \n",
    "        Transita para TIME_WAIT\n",
    "        \"\"\"\n",
    "        print(\"Transição: FIN_WAIT_1 → TIME_WAIT (ACK para FIN recebido)\")\n",
    "        return TimeWaitState()\n",
    "\n",
    "\n",
    "# Classe do estado 5\n",
    "class TimeWaitState(TCPState):\n",
    "    def close(self):\n",
    "        \"\"\"\n",
    "        Estado que aguarda para garantir que todos os pacotes em\n",
    "        trânsito tenham sido recebidos antes de fechar a conexão.\n",
    "        \"\"\"\n",
    "\n",
    "        print(\"Transição: TIME_WAIT → CLOSED (Tempo esgotado)\")\n",
    "        return ClosedState()\n",
    "\n",
    "\n"
   ]
  },
  {
   "cell_type": "markdown",
   "metadata": {},
   "source": [
    "# Testes da máquina de estado finita"
   ]
  },
  {
   "cell_type": "code",
   "execution_count": 5,
   "metadata": {},
   "outputs": [
    {
     "name": "stdout",
     "output_type": "stream",
     "text": [
      "[Estado Inicial: CLOSED]\n"
     ]
    }
   ],
   "source": [
    "# Simulação do ciclo de vida TCP\n",
    "connection = TCPConnection()\n",
    "print(\"[Estado Inicial: CLOSED]\")\n"
   ]
  },
  {
   "cell_type": "code",
   "execution_count": 4,
   "metadata": {},
   "outputs": [
    {
     "name": "stdout",
     "output_type": "stream",
     "text": [
      "Transição: CLOSED → SYN_SENT\n",
      "Transição: SYN_SENT → ESTABLISHED (SYN+ACK recebido)\n"
     ]
    }
   ],
   "source": [
    "\n",
    "# Estabelecendo a conexão\n",
    "connection.open()  # CLOSED → SYN_SENT\n",
    "connection.receive()  # SYN_SENT → ESTABLISHED\n"
   ]
  },
  {
   "cell_type": "code",
   "execution_count": null,
   "metadata": {},
   "outputs": [],
   "source": [
    "\n",
    "# Trocando dados\n",
    "connection.send()  # Envia dados\n",
    "connection.receive()  # Recebe dados\n"
   ]
  },
  {
   "cell_type": "code",
   "execution_count": null,
   "metadata": {},
   "outputs": [],
   "source": [
    "\n",
    "# Encerrando a conexão\n",
    "connection.close()  # ESTABLISHED → FIN_WAIT_1\n",
    "connection.receive()  # FIN_WAIT_1 → TIME_WAIT\n",
    "connection.close()  # TIME_WAIT → CLOSED\n",
    "\n",
    "print(\"[Conexão encerrada: CLOSED]\")\n"
   ]
  }
 ],
 "metadata": {
  "kernelspec": {
   "display_name": "Python 3",
   "language": "python",
   "name": "python3"
  },
  "language_info": {
   "codemirror_mode": {
    "name": "ipython",
    "version": 3
   },
   "file_extension": ".py",
   "mimetype": "text/x-python",
   "name": "python",
   "nbconvert_exporter": "python",
   "pygments_lexer": "ipython3",
   "version": "3.12.8"
  }
 },
 "nbformat": 4,
 "nbformat_minor": 2
}
