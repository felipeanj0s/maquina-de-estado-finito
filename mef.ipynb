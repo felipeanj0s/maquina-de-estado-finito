{
 "cells": [
  {
   "cell_type": "markdown",
   "metadata": {},
   "source": [
    "## Definição das **classes de estados** e **conexões**"
   ]
  },
  {
   "cell_type": "code",
   "execution_count": null,
   "metadata": {},
   "outputs": [],
   "source": [
    "class TCPState:\n",
    "    \"\"\"\n",
    "    Esta é a classe base para os estados do protocolo TCP.\n",
    "\n",
    "    \"\"\"\n",
    "    # Solicita abertura de conexão\n",
    "    def open(self):\n",
    "        raise NotImplementedError(\"Transição inválida para este estado.\")\n",
    "    \n",
    "    # \n",
    "    def close(self):\n",
    "        raise NotImplementedError(\"Transição inválida para este estado.\")\n",
    "    def send(self):\n",
    "        raise NotImplementedError(\"Transição inválida para este estado.\")\n",
    "    def receive(self):\n",
    "        raise NotImplementedError(\"Transição inválida para este estado.\")\n",
    "\n",
    "class ClosedState(TCPState):\n",
    "    def open(self):\n",
    "        print(\"Transição: CLOSED → SYN_SENT\")\n",
    "        return SynSentState()\n",
    "\n",
    "class SynSentState(TCPState):\n",
    "    def receive(self):\n",
    "        print(\"Transição: SYN_SENT → ESTABLISHED (SYN+ACK recebido)\")\n",
    "        return EstablishedState()\n",
    "\n",
    "class EstablishedState(TCPState):\n",
    "    def send(self):\n",
    "        print(\"Ação: Dados enviados no estado ESTABLISHED\")\n",
    "        return self\n",
    "    def receive(self):\n",
    "        print(\"Ação: Dados recebidos no estado ESTABLISHED\")\n",
    "        return self\n",
    "    def close(self):\n",
    "        print(\"Transição: ESTABLISHED → FIN_WAIT_1\")\n",
    "        return FinWait1State()\n",
    "\n",
    "class FinWait1State(TCPState):\n",
    "    def receive(self):\n",
    "        print(\"Transição: FIN_WAIT_1 → TIME_WAIT (ACK para FIN recebido)\")\n",
    "        return TimeWaitState()\n",
    "\n",
    "class TimeWaitState(TCPState):\n",
    "    def close(self):\n",
    "        print(\"Transição: TIME_WAIT → CLOSED (Tempo esgotado)\")\n",
    "        return ClosedState()\n",
    "\n",
    "class TCPConnection:\n",
    "    def __init__(self):\n",
    "        self.state = ClosedState()  # Estado inicial do TCP\n",
    "    def open(self):\n",
    "        self.state = self.state.open()\n",
    "    def close(self):\n",
    "        self.state = self.state.close()\n",
    "    def send(self):\n",
    "        self.state = self.state.send()\n",
    "    def receive(self):\n",
    "        self.state = self.state.receive()\n"
   ]
  }
 ],
 "metadata": {
  "language_info": {
   "name": "python"
  }
 },
 "nbformat": 4,
 "nbformat_minor": 2
}
